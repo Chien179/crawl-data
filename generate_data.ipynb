{
 "cells": [
  {
   "cell_type": "markdown",
   "metadata": {},
   "source": [
    "# Install Library"
   ]
  },
  {
   "cell_type": "code",
   "execution_count": 1,
   "metadata": {},
   "outputs": [
    {
     "name": "stdout",
     "output_type": "stream",
     "text": [
      "Requirement already satisfied: numpy in ./.venv/lib/python3.10/site-packages (1.25.2)\n",
      "Note: you may need to restart the kernel to use updated packages.\n",
      "Requirement already satisfied: pandas in ./.venv/lib/python3.10/site-packages (2.0.3)\n",
      "Requirement already satisfied: python-dateutil>=2.8.2 in ./.venv/lib/python3.10/site-packages (from pandas) (2.8.2)\n",
      "Requirement already satisfied: pytz>=2020.1 in ./.venv/lib/python3.10/site-packages (from pandas) (2023.3)\n",
      "Requirement already satisfied: tzdata>=2022.1 in ./.venv/lib/python3.10/site-packages (from pandas) (2023.3)\n",
      "Requirement already satisfied: numpy>=1.21.0 in ./.venv/lib/python3.10/site-packages (from pandas) (1.25.2)\n",
      "Requirement already satisfied: six>=1.5 in ./.venv/lib/python3.10/site-packages (from python-dateutil>=2.8.2->pandas) (1.16.0)\n",
      "Note: you may need to restart the kernel to use updated packages.\n"
     ]
    }
   ],
   "source": [
    "%pip install numpy\n",
    "%pip install pandas"
   ]
  },
  {
   "cell_type": "markdown",
   "metadata": {},
   "source": [
    "# Import Library"
   ]
  },
  {
   "cell_type": "code",
   "execution_count": 2,
   "metadata": {},
   "outputs": [],
   "source": [
    "import numpy as np\n",
    "import pandas as pd\n",
    "import csv"
   ]
  },
  {
   "cell_type": "markdown",
   "metadata": {},
   "source": [
    "# Functions"
   ]
  },
  {
   "cell_type": "code",
   "execution_count": null,
   "metadata": {},
   "outputs": [],
   "source": [
    "def generate_name():"
   ]
  },
  {
   "cell_type": "code",
   "execution_count": 3,
   "metadata": {},
   "outputs": [],
   "source": [
    "# save to file csv\n",
    "def save_file(name_file,header, data):\n",
    "    with open(name_file+'.csv', 'w') as file:\n",
    "        # 2. Create a CSV writer\n",
    "        writer = csv.writer(file)\n",
    "        # 3. Write data to the file\n",
    "        writer.writerow(header)\n",
    "        writer.writerows(data)"
   ]
  },
  {
   "cell_type": "markdown",
   "metadata": {},
   "source": [
    "# Read CSV"
   ]
  },
  {
   "cell_type": "code",
   "execution_count": 4,
   "metadata": {},
   "outputs": [],
   "source": [
    "df = pd.read_csv(\"data_raw/books_modified.csv\")"
   ]
  },
  {
   "cell_type": "code",
   "execution_count": 5,
   "metadata": {},
   "outputs": [],
   "source": [
    "title = df[df[\"reviews\"] != \"[]\"][\"id\"]\n",
    "re = df[df[\"reviews\"] != \"[]\"][\"reviews\"]\n",
    "\n",
    "reviews = [np.asarray(re.iloc(0)[i].replace(\"[\",\"\").split(\"],\")) for i in range(len(re))]\n",
    "\n",
    "add_title = []\n",
    "for i in range(len(reviews)):\n",
    "    for _ in range(len(reviews[i])):\n",
    "        add_title.append(title.iloc[i])\n",
    "\n",
    "reviews = [reviews[i][j].replace(\"\\\\'\",\"\").replace(\"'\",'\"').strip().split('\", \"') for i in range(len(reviews)) for j in range(len(reviews[i]))]\n",
    "for i in range(len(reviews)):\n",
    "    reviews[i][0] = reviews[i][0].replace('\"',\"\").replace(\"]\",\"\")\n",
    "    reviews[i][1] = reviews[i][1].replace('\"',\"\").replace(\"]\",\"\")\n",
    "\n",
    "rev = []\n",
    "for i in range(len(reviews)):\n",
    "    tit_re = [add_title[i], reviews[i][1], reviews[i][0]]\n",
    "    rev.append(tit_re)"
   ]
  },
  {
   "cell_type": "code",
   "execution_count": 6,
   "metadata": {},
   "outputs": [],
   "source": [
    "fields = ['book_id', 'comment','date']\n",
    "save_file('data_raw/reviews',fields,rev)"
   ]
  }
 ],
 "metadata": {
  "kernelspec": {
   "display_name": ".venv",
   "language": "python",
   "name": "python3"
  },
  "language_info": {
   "codemirror_mode": {
    "name": "ipython",
    "version": 3
   },
   "file_extension": ".py",
   "mimetype": "text/x-python",
   "name": "python",
   "nbconvert_exporter": "python",
   "pygments_lexer": "ipython3",
   "version": "3.10.12"
  },
  "orig_nbformat": 4
 },
 "nbformat": 4,
 "nbformat_minor": 2
}
