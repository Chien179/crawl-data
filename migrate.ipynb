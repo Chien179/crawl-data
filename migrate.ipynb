{
 "cells": [
  {
   "cell_type": "markdown",
   "metadata": {},
   "source": [
    "# Install Library"
   ]
  },
  {
   "cell_type": "code",
   "execution_count": 1,
   "metadata": {},
   "outputs": [
    {
     "name": "stdout",
     "output_type": "stream",
     "text": [
      "Requirement already satisfied: psycopg2 in ./venv/lib/python3.10/site-packages (2.9.9)\n",
      "Note: you may need to restart the kernel to use updated packages.\n"
     ]
    }
   ],
   "source": [
    "# Install Library\n",
    "%pip install psycopg2"
   ]
  },
  {
   "cell_type": "markdown",
   "metadata": {},
   "source": [
    "# Import Library"
   ]
  },
  {
   "cell_type": "code",
   "execution_count": 2,
   "metadata": {},
   "outputs": [],
   "source": [
    "import psycopg2\n",
    "import csv"
   ]
  },
  {
   "cell_type": "markdown",
   "metadata": {},
   "source": [
    "# Connect DB"
   ]
  },
  {
   "cell_type": "code",
   "execution_count": 3,
   "metadata": {},
   "outputs": [],
   "source": [
    "def open_and_insert(table: str, columns):\n",
    "    #  Connect to a PostgreSQL database\n",
    "    conn = psycopg2.connect(\n",
    "        dbname=\"nmc_bookstore\",\n",
    "        user=\"root\",\n",
    "        password=\"123456\",\n",
    "        host=\"localhost\",\n",
    "        port=\"5432\",\n",
    "    )\n",
    "    # Create cursor object to execute database commands and queries\n",
    "    cur = conn.cursor()\n",
    "\n",
    "    with open(f\"db/{table}.csv\", mode=\"r\") as csv_file:\n",
    "        datas = csv.DictReader(csv_file)\n",
    "        formt = \"\"\n",
    "        for _ in range(len(columns.split(\",\"))):\n",
    "            formt += \"%s,\"\n",
    "        formt = formt[:-1]\n",
    "        query = f\"INSERT INTO {table} ({columns}) VALUES ({formt});\"\n",
    "        # print(query)\n",
    "        for data in datas:\n",
    "            values = tuple([data.get(val.strip()) for val in columns.split(\",\")])\n",
    "            # Insert data into a table\n",
    "            cur.execute(query, (values))\n",
    "\n",
    "            # Make changes to the database\n",
    "            conn.commit()\n",
    "\n",
    "    # Close communication with the database\n",
    "    cur.close()\n",
    "    conn.close()"
   ]
  },
  {
   "cell_type": "markdown",
   "metadata": {},
   "source": [
    "# Insert Data"
   ]
  },
  {
   "cell_type": "markdown",
   "metadata": {},
   "source": [
    "## Users"
   ]
  },
  {
   "cell_type": "code",
   "execution_count": 4,
   "metadata": {},
   "outputs": [],
   "source": [
    "open_and_insert(\n",
    "    \"users\",\n",
    "    \"username, full_name, email, password, image, phone_number, age, sex\",\n",
    ")"
   ]
  },
  {
   "cell_type": "markdown",
   "metadata": {},
   "source": [
    "## Genres"
   ]
  },
  {
   "cell_type": "code",
   "execution_count": 5,
   "metadata": {},
   "outputs": [],
   "source": [
    "open_and_insert(\n",
    "    \"genres\",\n",
    "    \"name\",\n",
    ")"
   ]
  },
  {
   "cell_type": "markdown",
   "metadata": {},
   "source": [
    "## Subgenres"
   ]
  },
  {
   "cell_type": "code",
   "execution_count": 6,
   "metadata": {},
   "outputs": [],
   "source": [
    "open_and_insert(\n",
    "    \"subgenres\",\n",
    "    \"genres_id,name\",\n",
    ")"
   ]
  },
  {
   "cell_type": "markdown",
   "metadata": {},
   "source": [
    "## Books"
   ]
  },
  {
   "cell_type": "code",
   "execution_count": 7,
   "metadata": {},
   "outputs": [],
   "source": [
    "open_and_insert(\n",
    "    \"books\",\n",
    "    \"name,price,image,description,author,publisher,publication_date,page,product_dimensions,quantity,rating\",\n",
    ")"
   ]
  },
  {
   "cell_type": "markdown",
   "metadata": {},
   "source": [
    "## Books Genres"
   ]
  },
  {
   "cell_type": "code",
   "execution_count": 8,
   "metadata": {},
   "outputs": [],
   "source": [
    "open_and_insert(\n",
    "    \"books_genres\",\n",
    "    \"books_id,genres_id\",\n",
    ")"
   ]
  },
  {
   "cell_type": "markdown",
   "metadata": {},
   "source": [
    "## Books Subgenres"
   ]
  },
  {
   "cell_type": "code",
   "execution_count": 9,
   "metadata": {},
   "outputs": [],
   "source": [
    "open_and_insert(\n",
    "    \"books_subgenres\",\n",
    "    \"books_id,subgenres_id\",\n",
    ")"
   ]
  },
  {
   "cell_type": "markdown",
   "metadata": {},
   "source": [
    "# Reviews"
   ]
  },
  {
   "cell_type": "code",
   "execution_count": 10,
   "metadata": {},
   "outputs": [],
   "source": [
    "open_and_insert(\n",
    "    \"reviews\",\n",
    "    \"username,books_id,liked,disliked,reported,comments,rating,created_at\"\n",
    ")"
   ]
  }
 ],
 "metadata": {
  "kernelspec": {
   "display_name": "venv",
   "language": "python",
   "name": "python3"
  },
  "language_info": {
   "codemirror_mode": {
    "name": "ipython",
    "version": 3
   },
   "file_extension": ".py",
   "mimetype": "text/x-python",
   "name": "python",
   "nbconvert_exporter": "python",
   "pygments_lexer": "ipython3",
   "version": "3.10.12"
  }
 },
 "nbformat": 4,
 "nbformat_minor": 2
}
